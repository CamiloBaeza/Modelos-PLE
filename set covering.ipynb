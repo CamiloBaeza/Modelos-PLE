{
 "cells": [
  {
   "cell_type": "code",
   "execution_count": 5,
   "id": "2386b552",
   "metadata": {},
   "outputs": [],
   "source": [
    "import gurobipy as gp\n",
    "import numpy as np\n",
    "from collections import namedtuple\n",
    "import networkx as nx"
   ]
  },
  {
   "cell_type": "code",
   "execution_count": 6,
   "id": "f67b9d7b",
   "metadata": {},
   "outputs": [],
   "source": [
    "def plot_graph(nodes, arcs):\n",
    "    G = nx.Graph()\n",
    "    ni = [(n1.id, {'pos': (n1.x, n1.y), 'label': '${}$'.format(n1.id)}) for n1 in nodes]\n",
    "    G.add_nodes_from(ni)\n",
    "    G.add_edges_from(arcs)\n",
    "    pos = nx.get_node_attributes(G,'pos')\n",
    "    label = nx.get_node_attributes(G,'label')\n",
    "    nx.draw(G,pos)\n",
    "    nx.draw_networkx_labels(G,pos,label)"
   ]
  },
  {
   "cell_type": "code",
   "execution_count": 7,
   "id": "45916e3c",
   "metadata": {},
   "outputs": [],
   "source": [
    "Node = namedtuple('Node', ['id', 'x', 'y'])\n",
    "\n",
    "def distances(n1,n2):\n",
    "    return np.sqrt((n1.x - n2.x)**2 + (n1.y - n2.y)**2)"
   ]
  },
  {
   "cell_type": "code",
   "execution_count": 8,
   "id": "f9836197",
   "metadata": {},
   "outputs": [],
   "source": [
    "\n",
    "n = 10\n",
    "N = range(n)\n",
    "A = [(i,j) for i in N for j in N if i != j]\n",
    "nodes = [Node(i,np.random.randint(-100,100), np.random.randint(-100,100)) for i in N]\n",
    "\n",
    "c = {(i.id,j.id): distances(i,j)  for i in nodes for j in nodes if i.id != j.id}"
   ]
  },
  {
   "cell_type": "code",
   "execution_count": 9,
   "id": "fa0ea759",
   "metadata": {},
   "outputs": [
    {
     "name": "stdout",
     "output_type": "stream",
     "text": [
      "Restricted license - for non-production use only - expires 2023-10-25\n",
      "Gurobi Optimizer version 9.5.2 build v9.5.2rc0 (win64)\n",
      "Thread count: 2 physical cores, 4 logical processors, using up to 4 threads\n",
      "Optimize a model with 10 rows, 22 columns and 44 nonzeros\n",
      "Model fingerprint: 0x0aad310d\n",
      "Variable types: 0 continuous, 22 integer (22 binary)\n",
      "Coefficient statistics:\n",
      "  Matrix range     [1e+00, 1e+00]\n",
      "  Objective range  [6e+00, 2e+02]\n",
      "  Bounds range     [1e+00, 1e+00]\n",
      "  RHS range        [1e+00, 1e+00]\n",
      "Found heuristic solution: objective 334.5610519\n",
      "Presolve removed 2 rows and 5 columns\n",
      "Presolve time: 0.02s\n",
      "Presolved: 8 rows, 17 columns, 34 nonzeros\n",
      "Variable types: 0 continuous, 17 integer (17 binary)\n",
      "\n",
      "Root relaxation: objective 1.401525e+02, 2 iterations, 0.01 seconds (0.00 work units)\n",
      "\n",
      "    Nodes    |    Current Node    |     Objective Bounds      |     Work\n",
      " Expl Unexpl |  Obj  Depth IntInf | Incumbent    BestBd   Gap | It/Node Time\n",
      "\n",
      "*    0     0               0     140.1525469  140.15255  0.00%     -    0s\n",
      "\n",
      "Explored 1 nodes (2 simplex iterations) in 0.10 seconds (0.00 work units)\n",
      "Thread count was 4 (of 4 available processors)\n",
      "\n",
      "Solution count 2: 140.153 334.561 \n",
      "\n",
      "Optimal solution found (tolerance 1.00e-04)\n",
      "Best objective 1.401525468779e+02, best bound 1.401525468779e+02, gap 0.0000%\n"
     ]
    },
    {
     "data": {
      "image/png": "[encoded data removed]",
      "text/plain": [
       "<Figure size 432x288 with 1 Axes>"
      ]
     },
     "metadata": {},
     "output_type": "display_data"
    }
   ],
   "source": [
    "s = 0\n",
    "t = n - 1\n",
    "\n",
    "A = [(i,j) for i in N for j in N if i != j and j != s and i != t and np.random.rand() < 0.3]\n",
    "\n",
    "m1 = gp.Model('RMC')\n",
    "\n",
    "x = m1.addVars(A, vtype = gp.GRB.BINARY, name='x', obj=c)\n",
    "# m1.addConstr(gp.quicksum((x[s,j] for j in N if (s,j) in A)) == 1)\n",
    "# m1.addConstr(gp.quicksum((x[i,t] for i in N if (i,t) in A)) == 1)\n",
    "\n",
    "m1.addConstr(x.sum(s,'*') == 1, name='r1')\n",
    "m1.addConstr(x.sum('*',t) == 1, name='r2')\n",
    "m1.addConstrs((x.sum('*',j) == x.sum(j,'*') for j in N if j != s and j != t), name='r3')\n",
    "\n",
    "m1.write('RMC.lp')\n",
    "m1.optimize()\n",
    "values = m1.getAttr('x',x)\n",
    "sol = [ (i,j) for i,j in values if values[i,j] > 0.5]\n",
    "\n",
    "plot_graph(nodes, sol)"
   ]
  },
  {
   "cell_type": "code",
   "execution_count": 10,
   "id": "3e9ef3a2",
   "metadata": {},
   "outputs": [
    {
     "name": "stdout",
     "output_type": "stream",
     "text": [
      "Gurobi Optimizer version 9.5.2 build v9.5.2rc0 (win64)\n",
      "Thread count: 2 physical cores, 4 logical processors, using up to 4 threads\n",
      "Optimize a model with 109 rows, 180 columns and 432 nonzeros\n",
      "Model fingerprint: 0x2ace38ea\n",
      "Variable types: 0 continuous, 180 integer (90 binary)\n",
      "Coefficient statistics:\n",
      "  Matrix range     [1e+00, 1e+01]\n",
      "  Objective range  [6e+00, 2e+02]\n",
      "  Bounds range     [1e+00, 1e+00]\n",
      "  RHS range        [1e+00, 9e+00]\n",
      "Presolve removed 9 rows and 9 columns\n",
      "Presolve time: 0.00s\n",
      "Presolved: 100 rows, 171 columns, 414 nonzeros\n",
      "Variable types: 0 continuous, 171 integer (81 binary)\n",
      "Found heuristic solution: objective 1054.3517614\n",
      "Found heuristic solution: objective 687.5962336\n",
      "\n",
      "Root relaxation: objective 3.740893e+02, 48 iterations, 0.00 seconds (0.00 work units)\n",
      "\n",
      "    Nodes    |    Current Node    |     Objective Bounds      |     Work\n",
      " Expl Unexpl |  Obj  Depth IntInf | Incumbent    BestBd   Gap | It/Node Time\n",
      "\n",
      "     0     0  374.08931    0    6  687.59623  374.08931  45.6%     -    0s\n",
      "H    0     0                     557.8014820  374.08931  32.9%     -    0s\n",
      "H    0     0                     495.9749907  374.08931  24.6%     -    0s\n",
      "     0     0  383.66541    0    9  495.97499  383.66541  22.6%     -    0s\n",
      "H    0     0                     490.7555438  383.66541  21.8%     -    0s\n",
      "H    0     0                     482.3163605  383.66541  20.5%     -    0s\n",
      "     0     0  391.42099    0   12  482.31636  391.42099  18.8%     -    0s\n",
      "     0     0  391.58317    0   20  482.31636  391.58317  18.8%     -    0s\n",
      "     0     0  433.51151    0   21  482.31636  433.51151  10.1%     -    0s\n",
      "     0     0  434.80937    0   19  482.31636  434.80937  9.85%     -    0s\n",
      "     0     0  439.97760    0   28  482.31636  439.97760  8.78%     -    0s\n",
      "     0     0  439.97760    0    6  482.31636  439.97760  8.78%     -    0s\n",
      "H    0     0                     477.4353303  439.97760  7.85%     -    0s\n",
      "     0     0  439.97760    0    9  477.43533  439.97760  7.85%     -    0s\n",
      "H    0     0                     451.9190703  439.97760  2.64%     -    0s\n",
      "H    0     0                     447.0380400  439.97760  1.58%     -    0s\n",
      "     0     0  440.03982    0    6  447.03804  440.03982  1.57%     -    0s\n",
      "\n",
      "Cutting planes:\n",
      "  Gomory: 1\n",
      "  Cover: 2\n",
      "  Implied bound: 1\n",
      "  MIR: 6\n",
      "  Flow cover: 5\n",
      "  Flow path: 1\n",
      "  Relax-and-lift: 1\n",
      "\n",
      "Explored 1 nodes (273 simplex iterations) in 0.16 seconds (0.01 work units)\n",
      "Thread count was 4 (of 4 available processors)\n",
      "\n",
      "Solution count 9: 447.038 451.919 477.435 ... 1054.35\n",
      "\n",
      "Optimal solution found (tolerance 1.00e-04)\n",
      "Best objective 4.470380400373e+02, best bound 4.470380400373e+02, gap 0.0000%\n"
     ]
    },
    {
     "data": {
      "image/png": "[encoded data removed]",
      "text/plain": [
       "<Figure size 432x288 with 1 Axes>"
      ]
     },
     "metadata": {},
     "output_type": "display_data"
    }
   ],
   "source": [
    "A = [(i,j) for i in N for j in N if i != j]\n",
    "m2 = gp.Model('MST')\n",
    "\n",
    "s = 0\n",
    "\n",
    "x = m2.addVars(A, vtype = gp.GRB.BINARY, name='x', obj=c)\n",
    "f = m2.addVars(A, vtype = gp.GRB.INTEGER, name='f')\n",
    "\n",
    "m2.addConstr(f.sum(s,'*') == n - 1, name='r1')\n",
    "m2.addConstrs((f[i,j] <= n*x[i,j]  for i,j in A), name='r2')\n",
    "m2.addConstrs((f.sum('*',j) - 1 == f.sum(j,'*')   for j in N if j != s), name='r3')\n",
    "m2.addConstrs((x.sum('*',j) == 1  for j in N if j != s), name='r4')\n",
    "m2.write('MST.lp')\n",
    "m2.optimize()\n",
    "values = m2.getAttr('x', x)\n",
    "sol = [ (i,j) for i,j in values if values[i,j] > 0.5]\n",
    "\n",
    "plot_graph(nodes, sol)"
   ]
  },
  {
   "cell_type": "code",
   "execution_count": 11,
   "id": "65c58019",
   "metadata": {},
   "outputs": [
    {
     "name": "stdout",
     "output_type": "stream",
     "text": [
      "Gurobi Optimizer version 9.5.2 build v9.5.2rc0 (win64)\n",
      "Thread count: 2 physical cores, 4 logical processors, using up to 4 threads\n",
      "Optimize a model with 111 rows, 110 columns and 310 nonzeros\n",
      "Model fingerprint: 0x8fadbf0d\n",
      "Variable types: 0 continuous, 110 integer (110 binary)\n",
      "Coefficient statistics:\n",
      "  Matrix range     [1e+00, 1e+00]\n",
      "  Objective range  [6e+00, 2e+02]\n",
      "  Bounds range     [1e+00, 1e+00]\n",
      "  RHS range        [1e+00, 3e+00]\n",
      "Found heuristic solution: objective 745.5557074\n",
      "Presolve time: 0.00s\n",
      "Presolved: 111 rows, 110 columns, 310 nonzeros\n",
      "Variable types: 0 continuous, 110 integer (110 binary)\n",
      "Found heuristic solution: objective 509.8430333\n",
      "\n",
      "Root relaxation: objective 3.228870e+02, 44 iterations, 0.00 seconds (0.00 work units)\n",
      "\n",
      "    Nodes    |    Current Node    |     Objective Bounds      |     Work\n",
      " Expl Unexpl |  Obj  Depth IntInf | Incumbent    BestBd   Gap | It/Node Time\n",
      "\n",
      "*    0     0               0     322.8869896  322.88699  0.00%     -    0s\n",
      "\n",
      "Explored 1 nodes (44 simplex iterations) in 0.02 seconds (0.00 work units)\n",
      "Thread count was 4 (of 4 available processors)\n",
      "\n",
      "Solution count 3: 322.887 509.843 745.556 \n",
      "\n",
      "Optimal solution found (tolerance 1.00e-04)\n",
      "Best objective 3.228869895670e+02, best bound 3.228869895670e+02, gap 0.0000%\n"
     ]
    },
    {
     "data": {
      "image/png": "[encoded data removed]",
      "text/plain": [
       "<Figure size 432x288 with 1 Axes>"
      ]
     },
     "metadata": {},
     "output_type": "display_data"
    }
   ],
   "source": [
    "A = [(i,j) for i in N for j in N]\n",
    "p = 3\n",
    "\n",
    "m3 = gp.Model('p-median')\n",
    "\n",
    "x = m3.addVars(A, vtype = gp.GRB.BINARY, name='x', obj=c)\n",
    "y = m3.addVars(N, vtype = gp.GRB.BINARY, name='y')\n",
    "\n",
    "m3.addConstrs((x.sum(i,'*') == 1 for i in N), name='r1')\n",
    "m3.addConstr(y.sum('*') == p, name='r2')\n",
    "m3.addConstrs((x[i,j] <= y[j] for i,j in A), name='r1')\n",
    "\n",
    "m3.write('p-median.lp')\n",
    "m3.optimize()\n",
    "values = m3.getAttr('x', x)\n",
    "sol = [ (i,j) for i,j in values if values[i,j] > 0.5]\n",
    "\n",
    "plot_graph(nodes, sol)"
   ]
  },
  {
   "cell_type": "code",
   "execution_count": 12,
   "id": "91e24282",
   "metadata": {},
   "outputs": [
    {
     "name": "stdout",
     "output_type": "stream",
     "text": [
      "Gurobi Optimizer version 9.5.2 build v9.5.2rc0 (win64)\n",
      "Thread count: 2 physical cores, 4 logical processors, using up to 4 threads\n",
      "Optimize a model with 11 rows, 20 columns and 42 nonzeros\n",
      "Model fingerprint: 0xbc257277\n",
      "Variable types: 0 continuous, 20 integer (20 binary)\n",
      "Coefficient statistics:\n",
      "  Matrix range     [1e+00, 1e+00]\n",
      "  Objective range  [1e+00, 1e+00]\n",
      "  Bounds range     [1e+00, 1e+00]\n",
      "  RHS range        [3e+00, 3e+00]\n",
      "Found heuristic solution: objective 4.0000000\n",
      "Presolve removed 11 rows and 20 columns\n",
      "Presolve time: 0.00s\n",
      "Presolve: All rows and columns removed\n",
      "\n",
      "Explored 0 nodes (0 simplex iterations) in 0.01 seconds (0.00 work units)\n",
      "Thread count was 1 (of 4 available processors)\n",
      "\n",
      "Solution count 2: 7 4 \n",
      "\n",
      "Optimal solution found (tolerance 1.00e-04)\n",
      "Best objective 7.000000000000e+00, best bound 7.000000000000e+00, gap 0.0000%\n",
      "[0, 1, 2, 3, 5, 6, 9] [0, 1, 6]\n"
     ]
    },
    {
     "data": {
      "image/png": "[encoded data removed]",
      "text/plain": [
       "<Figure size 432x288 with 1 Axes>"
      ]
     },
     "metadata": {},
     "output_type": "display_data"
    }
   ],
   "source": [
    "m4 = gp.Model('max-covering')\n",
    "c = {(i.id,j.id): distances(i,j)  for i in nodes for j in nodes}\n",
    "\n",
    "p = 3\n",
    "S = 50\n",
    "A = [(i,j) for i in N for j in N if c[i,j] <= S]\n",
    "\n",
    "x = m4.addVars(N, vtype = gp.GRB.BINARY, name='x')\n",
    "y = m4.addVars(N, vtype = gp.GRB.BINARY, name='y')\n",
    "\n",
    "m4.setObjective(x.sum('*'), gp.GRB.MAXIMIZE)\n",
    "\n",
    "m4.write('max-covering.lp')\n",
    "\n",
    "m4.addConstr(y.sum('*') == p, name='r1')\n",
    "m4.addConstrs((x[i] == gp.quicksum(y[j] for h,j in A if h == i) for i in N), name='r2')\n",
    "\n",
    "m4.optimize()\n",
    "values_y = m4.getAttr('x', y)\n",
    "values_x = m4.getAttr('x', x)\n",
    "sol_y = [ i for i in values_y if values_y[i] > 0.5]\n",
    "sol_x = [ i for i in values_x if values_x[i] > 0.5]\n",
    "print(sol_x, sol_y)\n",
    "plot_graph(nodes,A)"
   ]
  },
  {
   "cell_type": "code",
   "execution_count": 13,
   "id": "9d535f11",
   "metadata": {},
   "outputs": [
    {
     "name": "stdout",
     "output_type": "stream",
     "text": [
      "Gurobi Optimizer version 9.5.2 build v9.5.2rc0 (win64)\n",
      "Thread count: 2 physical cores, 4 logical processors, using up to 4 threads\n",
      "Optimize a model with 10 rows, 10 columns and 22 nonzeros\n",
      "Model fingerprint: 0x07206799\n",
      "Variable types: 0 continuous, 10 integer (10 binary)\n",
      "Coefficient statistics:\n",
      "  Matrix range     [1e+00, 1e+00]\n",
      "  Objective range  [1e+00, 1e+00]\n",
      "  Bounds range     [1e+00, 1e+00]\n",
      "  RHS range        [1e+00, 1e+00]\n",
      "Found heuristic solution: objective 6.0000000\n",
      "Presolve removed 10 rows and 10 columns\n",
      "Presolve time: 0.00s\n",
      "Presolve: All rows and columns removed\n",
      "\n",
      "Explored 0 nodes (0 simplex iterations) in 0.01 seconds (0.00 work units)\n",
      "Thread count was 1 (of 4 available processors)\n",
      "\n",
      "Solution count 1: 6 \n",
      "\n",
      "Optimal solution found (tolerance 1.00e-04)\n",
      "Best objective 6.000000000000e+00, best bound 6.000000000000e+00, gap 0.0000%\n",
      "[0, 1, 3, 4, 8, 9]\n"
     ]
    },
    {
     "data": {
      "image/png": "[encoded data removed]",
      "text/plain": [
       "<Figure size 432x288 with 1 Axes>"
      ]
     },
     "metadata": {},
     "output_type": "display_data"
    }
   ],
   "source": [
    "m5 = gp.Model('set-covering')\n",
    "c = {(i.id,j.id): distances(i,j)  for i in nodes for j in nodes}\n",
    "\n",
    "p = 3\n",
    "S = 50\n",
    "A = [(i,j) for i in N for j in N if c[i,j] <= S]\n",
    "\n",
    "y = m5.addVars(N, vtype = gp.GRB.BINARY, name='y')\n",
    "\n",
    "m5.setObjective(y.sum('*'))\n",
    "\n",
    "m5.addConstrs(( gp.quicksum(y[j] for h,j in A if h == i) >= 1 for i in N), name='r1')\n",
    "m5.write('set-covering.lp')\n",
    "m5.optimize()\n",
    "values = m5.getAttr('x', y)\n",
    "sol = [ i for i in values if values[i] > 0.5]\n",
    "print(sol)\n",
    "plot_graph(nodes,A)"
   ]
  },
  {
   "cell_type": "code",
   "execution_count": null,
   "id": "bd493db0",
   "metadata": {},
   "outputs": [],
   "source": []
  }
 ],
 "metadata": {
  "kernelspec": {
   "display_name": "Python 3 (ipykernel)",
   "language": "python",
   "name": "python3"
  },
  "language_info": {
   "codemirror_mode": {
    "name": "ipython",
    "version": 3
   },
   "file_extension": ".py",
   "mimetype": "text/x-python",
   "name": "python",
   "nbconvert_exporter": "python",
   "pygments_lexer": "ipython3",
   "version": "3.9.12"
  }
 },
 "nbformat": 4,
 "nbformat_minor": 5
}
